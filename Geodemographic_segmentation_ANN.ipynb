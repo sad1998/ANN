{
 "cells": [
  {
   "cell_type": "markdown",
   "metadata": {},
   "source": [
    "### Geographic Segmentation using ANN\n",
    "\n",
    "#### Data Description:\n",
    "\n",
    "The dataset consists of 10000 records of a bank customers. The target variable being the status 'Exited' which says whether or \n",
    "not the customer left the bank.\n",
    "\n",
    "#### Labels:\n",
    "\n",
    "CustomerID  :  Unique ID of customer\n",
    "\n",
    "Surname  :  Surname of Customer\n",
    "\n",
    "CreditScore  :  Credit Score of customer\n",
    "\n",
    "Geography  :  Country of residence of customer\n",
    "\n",
    "Gender  :  Gender of customer\n",
    "\n",
    "Age  :  Age of customer\n",
    "\n",
    "Tenure  :  Time for which the customer was a member of the bank\n",
    "\n",
    "Balance  :  Account Balance of the customer\n",
    "\n",
    "NumofProducts  :  Num of products of the bank the customer is associated with\n",
    "\n",
    "HasCrCard  :  Whether or not the customer has a credit card (1- Yes, 0- No)\n",
    "\n",
    "IsActiveMember  :  If the customer is an active member of the bank (1- Yes, 0-No)\n",
    "\n",
    "EstimatedSalary  :  Estimated salary of the bank customer\n",
    "\n",
    "Exited  :  Whether or not the customer exited from the bank (1-Yes, 0-No)"
   ]
  },
  {
   "cell_type": "code",
   "execution_count": 97,
   "metadata": {},
   "outputs": [],
   "source": [
    "#importing necessary libraries\n",
    "import numpy as np\n",
    "import pandas as pd\n",
    "import matplotlib.pyplot as plt\n",
    "import tensorflow as tf\n",
    "from tensorflow import keras\n",
    "\n",
    "%matplotlib inline"
   ]
  },
  {
   "cell_type": "code",
   "execution_count": 98,
   "metadata": {},
   "outputs": [],
   "source": [
    "dataset = pd.read_csv('Churn_Modelling.csv')"
   ]
  },
  {
   "cell_type": "code",
   "execution_count": 99,
   "metadata": {},
   "outputs": [
    {
     "data": {
      "text/html": [
       "<div>\n",
       "<style scoped>\n",
       "    .dataframe tbody tr th:only-of-type {\n",
       "        vertical-align: middle;\n",
       "    }\n",
       "\n",
       "    .dataframe tbody tr th {\n",
       "        vertical-align: top;\n",
       "    }\n",
       "\n",
       "    .dataframe thead th {\n",
       "        text-align: right;\n",
       "    }\n",
       "</style>\n",
       "<table border=\"1\" class=\"dataframe\">\n",
       "  <thead>\n",
       "    <tr style=\"text-align: right;\">\n",
       "      <th></th>\n",
       "      <th>RowNumber</th>\n",
       "      <th>CustomerId</th>\n",
       "      <th>Surname</th>\n",
       "      <th>CreditScore</th>\n",
       "      <th>Geography</th>\n",
       "      <th>Gender</th>\n",
       "      <th>Age</th>\n",
       "      <th>Tenure</th>\n",
       "      <th>Balance</th>\n",
       "      <th>NumOfProducts</th>\n",
       "      <th>HasCrCard</th>\n",
       "      <th>IsActiveMember</th>\n",
       "      <th>EstimatedSalary</th>\n",
       "      <th>Exited</th>\n",
       "    </tr>\n",
       "  </thead>\n",
       "  <tbody>\n",
       "    <tr>\n",
       "      <th>0</th>\n",
       "      <td>1</td>\n",
       "      <td>15634602</td>\n",
       "      <td>Hargrave</td>\n",
       "      <td>619</td>\n",
       "      <td>France</td>\n",
       "      <td>Female</td>\n",
       "      <td>42</td>\n",
       "      <td>2</td>\n",
       "      <td>0.00</td>\n",
       "      <td>1</td>\n",
       "      <td>1</td>\n",
       "      <td>1</td>\n",
       "      <td>101348.88</td>\n",
       "      <td>1</td>\n",
       "    </tr>\n",
       "    <tr>\n",
       "      <th>1</th>\n",
       "      <td>2</td>\n",
       "      <td>15647311</td>\n",
       "      <td>Hill</td>\n",
       "      <td>608</td>\n",
       "      <td>Spain</td>\n",
       "      <td>Female</td>\n",
       "      <td>41</td>\n",
       "      <td>1</td>\n",
       "      <td>83807.86</td>\n",
       "      <td>1</td>\n",
       "      <td>0</td>\n",
       "      <td>1</td>\n",
       "      <td>112542.58</td>\n",
       "      <td>0</td>\n",
       "    </tr>\n",
       "    <tr>\n",
       "      <th>2</th>\n",
       "      <td>3</td>\n",
       "      <td>15619304</td>\n",
       "      <td>Onio</td>\n",
       "      <td>502</td>\n",
       "      <td>France</td>\n",
       "      <td>Female</td>\n",
       "      <td>42</td>\n",
       "      <td>8</td>\n",
       "      <td>159660.80</td>\n",
       "      <td>3</td>\n",
       "      <td>1</td>\n",
       "      <td>0</td>\n",
       "      <td>113931.57</td>\n",
       "      <td>1</td>\n",
       "    </tr>\n",
       "    <tr>\n",
       "      <th>3</th>\n",
       "      <td>4</td>\n",
       "      <td>15701354</td>\n",
       "      <td>Boni</td>\n",
       "      <td>699</td>\n",
       "      <td>France</td>\n",
       "      <td>Female</td>\n",
       "      <td>39</td>\n",
       "      <td>1</td>\n",
       "      <td>0.00</td>\n",
       "      <td>2</td>\n",
       "      <td>0</td>\n",
       "      <td>0</td>\n",
       "      <td>93826.63</td>\n",
       "      <td>0</td>\n",
       "    </tr>\n",
       "    <tr>\n",
       "      <th>4</th>\n",
       "      <td>5</td>\n",
       "      <td>15737888</td>\n",
       "      <td>Mitchell</td>\n",
       "      <td>850</td>\n",
       "      <td>Spain</td>\n",
       "      <td>Female</td>\n",
       "      <td>43</td>\n",
       "      <td>2</td>\n",
       "      <td>125510.82</td>\n",
       "      <td>1</td>\n",
       "      <td>1</td>\n",
       "      <td>1</td>\n",
       "      <td>79084.10</td>\n",
       "      <td>0</td>\n",
       "    </tr>\n",
       "  </tbody>\n",
       "</table>\n",
       "</div>"
      ],
      "text/plain": [
       "   RowNumber  CustomerId   Surname  CreditScore Geography  Gender  Age  \\\n",
       "0          1    15634602  Hargrave          619    France  Female   42   \n",
       "1          2    15647311      Hill          608     Spain  Female   41   \n",
       "2          3    15619304      Onio          502    France  Female   42   \n",
       "3          4    15701354      Boni          699    France  Female   39   \n",
       "4          5    15737888  Mitchell          850     Spain  Female   43   \n",
       "\n",
       "   Tenure    Balance  NumOfProducts  HasCrCard  IsActiveMember  \\\n",
       "0       2       0.00              1          1               1   \n",
       "1       1   83807.86              1          0               1   \n",
       "2       8  159660.80              3          1               0   \n",
       "3       1       0.00              2          0               0   \n",
       "4       2  125510.82              1          1               1   \n",
       "\n",
       "   EstimatedSalary  Exited  \n",
       "0        101348.88       1  \n",
       "1        112542.58       0  \n",
       "2        113931.57       1  \n",
       "3         93826.63       0  \n",
       "4         79084.10       0  "
      ]
     },
     "execution_count": 99,
     "metadata": {},
     "output_type": "execute_result"
    }
   ],
   "source": [
    "dataset.head()"
   ]
  },
  {
   "cell_type": "code",
   "execution_count": 100,
   "metadata": {},
   "outputs": [
    {
     "name": "stdout",
     "output_type": "stream",
     "text": [
      "<class 'pandas.core.frame.DataFrame'>\n",
      "RangeIndex: 10000 entries, 0 to 9999\n",
      "Data columns (total 14 columns):\n",
      " #   Column           Non-Null Count  Dtype  \n",
      "---  ------           --------------  -----  \n",
      " 0   RowNumber        10000 non-null  int64  \n",
      " 1   CustomerId       10000 non-null  int64  \n",
      " 2   Surname          10000 non-null  object \n",
      " 3   CreditScore      10000 non-null  int64  \n",
      " 4   Geography        10000 non-null  object \n",
      " 5   Gender           10000 non-null  object \n",
      " 6   Age              10000 non-null  int64  \n",
      " 7   Tenure           10000 non-null  int64  \n",
      " 8   Balance          10000 non-null  float64\n",
      " 9   NumOfProducts    10000 non-null  int64  \n",
      " 10  HasCrCard        10000 non-null  int64  \n",
      " 11  IsActiveMember   10000 non-null  int64  \n",
      " 12  EstimatedSalary  10000 non-null  float64\n",
      " 13  Exited           10000 non-null  int64  \n",
      "dtypes: float64(2), int64(9), object(3)\n",
      "memory usage: 1.1+ MB\n"
     ]
    }
   ],
   "source": [
    "dataset.info()"
   ]
  },
  {
   "cell_type": "code",
   "execution_count": 101,
   "metadata": {},
   "outputs": [
    {
     "data": {
      "text/plain": [
       "(10000, 14)"
      ]
     },
     "execution_count": 101,
     "metadata": {},
     "output_type": "execute_result"
    }
   ],
   "source": [
    "dataset.shape"
   ]
  },
  {
   "cell_type": "code",
   "execution_count": 102,
   "metadata": {},
   "outputs": [
    {
     "data": {
      "text/plain": [
       "RowNumber          0\n",
       "CustomerId         0\n",
       "Surname            0\n",
       "CreditScore        0\n",
       "Geography          0\n",
       "Gender             0\n",
       "Age                0\n",
       "Tenure             0\n",
       "Balance            0\n",
       "NumOfProducts      0\n",
       "HasCrCard          0\n",
       "IsActiveMember     0\n",
       "EstimatedSalary    0\n",
       "Exited             0\n",
       "dtype: int64"
      ]
     },
     "execution_count": 102,
     "metadata": {},
     "output_type": "execute_result"
    }
   ],
   "source": [
    "dataset.isnull().sum()"
   ]
  },
  {
   "cell_type": "code",
   "execution_count": 103,
   "metadata": {},
   "outputs": [],
   "source": [
    "# DATA PREPROCESSING\n",
    "\n",
    "\n",
    "X = dataset.iloc[: , 3:13].values\n",
    "y = dataset.iloc[:,13:].values"
   ]
  },
  {
   "cell_type": "code",
   "execution_count": 104,
   "metadata": {},
   "outputs": [
    {
     "data": {
      "text/plain": [
       "array([[619, 'France', 'Female', ..., 1, 1, 101348.88],\n",
       "       [608, 'Spain', 'Female', ..., 0, 1, 112542.58],\n",
       "       [502, 'France', 'Female', ..., 1, 0, 113931.57],\n",
       "       ...,\n",
       "       [709, 'France', 'Female', ..., 0, 1, 42085.58],\n",
       "       [772, 'Germany', 'Male', ..., 1, 0, 92888.52],\n",
       "       [792, 'France', 'Female', ..., 1, 0, 38190.78]], dtype=object)"
      ]
     },
     "execution_count": 104,
     "metadata": {},
     "output_type": "execute_result"
    }
   ],
   "source": [
    "X"
   ]
  },
  {
   "cell_type": "code",
   "execution_count": 105,
   "metadata": {},
   "outputs": [
    {
     "data": {
      "text/plain": [
       "array([[1],\n",
       "       [0],\n",
       "       [1],\n",
       "       ...,\n",
       "       [1],\n",
       "       [1],\n",
       "       [0]], dtype=int64)"
      ]
     },
     "execution_count": 105,
     "metadata": {},
     "output_type": "execute_result"
    }
   ],
   "source": [
    "y"
   ]
  },
  {
   "cell_type": "code",
   "execution_count": 106,
   "metadata": {},
   "outputs": [
    {
     "data": {
      "text/plain": [
       "((10000, 10), (10000, 1))"
      ]
     },
     "execution_count": 106,
     "metadata": {},
     "output_type": "execute_result"
    }
   ],
   "source": [
    "X.shape , y.shape"
   ]
  },
  {
   "cell_type": "code",
   "execution_count": 107,
   "metadata": {},
   "outputs": [],
   "source": [
    "# ENCODING CATEGORICAL FEATURES\n",
    "\n",
    "from sklearn.preprocessing import LabelEncoder\n",
    "\n",
    "encoder = LabelEncoder()\n",
    "X[:, 2] = encoder.fit_transform(X[:, 2])"
   ]
  },
  {
   "cell_type": "code",
   "execution_count": 108,
   "metadata": {},
   "outputs": [
    {
     "data": {
      "text/plain": [
       "array([0, 0, 0, ..., 0, 1, 0], dtype=object)"
      ]
     },
     "execution_count": 108,
     "metadata": {},
     "output_type": "execute_result"
    }
   ],
   "source": [
    "X[:,2]"
   ]
  },
  {
   "cell_type": "code",
   "execution_count": 109,
   "metadata": {},
   "outputs": [
    {
     "data": {
      "text/plain": [
       "array([[619, 'France', 0, ..., 1, 1, 101348.88],\n",
       "       [608, 'Spain', 0, ..., 0, 1, 112542.58],\n",
       "       [502, 'France', 0, ..., 1, 0, 113931.57],\n",
       "       ...,\n",
       "       [709, 'France', 0, ..., 0, 1, 42085.58],\n",
       "       [772, 'Germany', 1, ..., 1, 0, 92888.52],\n",
       "       [792, 'France', 0, ..., 1, 0, 38190.78]], dtype=object)"
      ]
     },
     "execution_count": 109,
     "metadata": {},
     "output_type": "execute_result"
    }
   ],
   "source": [
    "X"
   ]
  },
  {
   "cell_type": "code",
   "execution_count": 110,
   "metadata": {},
   "outputs": [],
   "source": [
    "from sklearn.compose import ColumnTransformer\n",
    "from sklearn.preprocessing import OneHotEncoder"
   ]
  },
  {
   "cell_type": "code",
   "execution_count": 111,
   "metadata": {},
   "outputs": [],
   "source": [
    "ct = ColumnTransformer(transformers = [('encoder', OneHotEncoder(),  [1])], remainder='passthrough')\n",
    "X = np.array(ct.fit_transform(X))"
   ]
  },
  {
   "cell_type": "code",
   "execution_count": 112,
   "metadata": {},
   "outputs": [
    {
     "data": {
      "text/plain": [
       "array([[1.0, 0.0, 0.0, ..., 1, 1, 101348.88],\n",
       "       [0.0, 0.0, 1.0, ..., 0, 1, 112542.58],\n",
       "       [1.0, 0.0, 0.0, ..., 1, 0, 113931.57],\n",
       "       ...,\n",
       "       [1.0, 0.0, 0.0, ..., 0, 1, 42085.58],\n",
       "       [0.0, 1.0, 0.0, ..., 1, 0, 92888.52],\n",
       "       [1.0, 0.0, 0.0, ..., 1, 0, 38190.78]], dtype=object)"
      ]
     },
     "execution_count": 112,
     "metadata": {},
     "output_type": "execute_result"
    }
   ],
   "source": [
    "X"
   ]
  },
  {
   "cell_type": "code",
   "execution_count": 113,
   "metadata": {},
   "outputs": [],
   "source": [
    "# SPLITTING DATASET INTO TRAIN AND TEST SET\n",
    "\n",
    "from sklearn.model_selection import train_test_split\n",
    "\n",
    "X_train, X_test, y_train, y_test = train_test_split(X, y, test_size = 0.2, random_state = 101)"
   ]
  },
  {
   "cell_type": "code",
   "execution_count": 114,
   "metadata": {},
   "outputs": [],
   "source": [
    "# FEATURE SCALING\n",
    "\n",
    "from sklearn.preprocessing import StandardScaler\n",
    "\n",
    "scaler = StandardScaler()\n",
    "X_train = scaler.fit_transform(X_train)\n",
    "X_test = scaler.transform(X_test)"
   ]
  },
  {
   "cell_type": "code",
   "execution_count": 115,
   "metadata": {},
   "outputs": [
    {
     "data": {
      "text/plain": [
       "(array([[-1.01055571, -0.57504086,  1.74954671, ..., -1.55056613,\n",
       "         -1.02199176,  0.74416401],\n",
       "        [-1.01055571, -0.57504086,  1.74954671, ...,  0.64492573,\n",
       "         -1.02199176, -1.59596268],\n",
       "        [ 0.98955455, -0.57504086, -0.57157662, ...,  0.64492573,\n",
       "          0.97848147,  0.02151338],\n",
       "        ...,\n",
       "        [-1.01055571,  1.73900686, -0.57157662, ...,  0.64492573,\n",
       "          0.97848147,  0.65484524],\n",
       "        [ 0.98955455, -0.57504086, -0.57157662, ...,  0.64492573,\n",
       "          0.97848147,  0.72022509],\n",
       "        [-1.01055571, -0.57504086,  1.74954671, ...,  0.64492573,\n",
       "          0.97848147, -0.06269008]]),\n",
       " (8000, 12))"
      ]
     },
     "execution_count": 115,
     "metadata": {},
     "output_type": "execute_result"
    }
   ],
   "source": [
    "X_train , X_train.shape"
   ]
  },
  {
   "cell_type": "code",
   "execution_count": 116,
   "metadata": {},
   "outputs": [
    {
     "data": {
      "text/plain": [
       "(array([[-1.01055571, -0.57504086,  1.74954671, ...,  0.64492573,\n",
       "          0.97848147,  0.39813382],\n",
       "        [ 0.98955455, -0.57504086, -0.57157662, ...,  0.64492573,\n",
       "          0.97848147, -0.65077449],\n",
       "        [ 0.98955455, -0.57504086, -0.57157662, ..., -1.55056613,\n",
       "          0.97848147,  1.23782388],\n",
       "        ...,\n",
       "        [ 0.98955455, -0.57504086, -0.57157662, ..., -1.55056613,\n",
       "         -1.02199176, -1.3252864 ],\n",
       "        [-1.01055571, -0.57504086,  1.74954671, ...,  0.64492573,\n",
       "          0.97848147, -0.08060085],\n",
       "        [-1.01055571, -0.57504086,  1.74954671, ..., -1.55056613,\n",
       "         -1.02199176,  1.27418157]]),\n",
       " (2000, 12))"
      ]
     },
     "execution_count": 116,
     "metadata": {},
     "output_type": "execute_result"
    }
   ],
   "source": [
    "X_test, X_test.shape"
   ]
  },
  {
   "cell_type": "code",
   "execution_count": 117,
   "metadata": {},
   "outputs": [],
   "source": [
    "# BUILDING THE ARTIFICIAL NEURAL NETWORK\n",
    "\n",
    "from tensorflow.keras.models import Sequential\n",
    "from tensorflow.keras.layers import Dense"
   ]
  },
  {
   "cell_type": "code",
   "execution_count": 118,
   "metadata": {},
   "outputs": [],
   "source": [
    "model = Sequential()"
   ]
  },
  {
   "cell_type": "code",
   "execution_count": 119,
   "metadata": {},
   "outputs": [],
   "source": [
    "model.add(Dense(units = 8, activation = 'relu', input_dim = 12))\n",
    "model.add(Dense(units = 12, activation = 'relu'))\n",
    "model.add(Dense(units = 1, activation = 'sigmoid'))"
   ]
  },
  {
   "cell_type": "code",
   "execution_count": 120,
   "metadata": {},
   "outputs": [],
   "source": [
    "model.compile(optimizer = 'adam', loss = 'binary_crossentropy', metrics = ['accuracy'])"
   ]
  },
  {
   "cell_type": "code",
   "execution_count": 121,
   "metadata": {},
   "outputs": [
    {
     "name": "stdout",
     "output_type": "stream",
     "text": [
      "Train on 8000 samples\n",
      "Epoch 1/40\n",
      "8000/8000 [==============================] - 0s 48us/sample - loss: 0.5458 - accuracy: 0.7605\n",
      "Epoch 2/40\n",
      "8000/8000 [==============================] - 0s 26us/sample - loss: 0.4602 - accuracy: 0.7983\n",
      "Epoch 3/40\n",
      "8000/8000 [==============================] - 0s 26us/sample - loss: 0.4393 - accuracy: 0.8024\n",
      "Epoch 4/40\n",
      "8000/8000 [==============================] - 0s 27us/sample - loss: 0.4262 - accuracy: 0.8149\n",
      "Epoch 5/40\n",
      "8000/8000 [==============================] - 0s 26us/sample - loss: 0.4121 - accuracy: 0.8263\n",
      "Epoch 6/40\n",
      "8000/8000 [==============================] - 0s 26us/sample - loss: 0.3941 - accuracy: 0.8376\n",
      "Epoch 7/40\n",
      "8000/8000 [==============================] - 0s 26us/sample - loss: 0.3760 - accuracy: 0.8485\n",
      "Epoch 8/40\n",
      "8000/8000 [==============================] - 0s 27us/sample - loss: 0.3634 - accuracy: 0.8536\n",
      "Epoch 9/40\n",
      "8000/8000 [==============================] - 0s 27us/sample - loss: 0.3555 - accuracy: 0.8566\n",
      "Epoch 10/40\n",
      "8000/8000 [==============================] - 0s 26us/sample - loss: 0.3507 - accuracy: 0.8591\n",
      "Epoch 11/40\n",
      "8000/8000 [==============================] - 0s 26us/sample - loss: 0.3480 - accuracy: 0.8587\n",
      "Epoch 12/40\n",
      "8000/8000 [==============================] - 0s 26us/sample - loss: 0.3459 - accuracy: 0.8581\n",
      "Epoch 13/40\n",
      "8000/8000 [==============================] - 0s 26us/sample - loss: 0.3451 - accuracy: 0.8594\n",
      "Epoch 14/40\n",
      "8000/8000 [==============================] - 0s 27us/sample - loss: 0.3431 - accuracy: 0.8595\n",
      "Epoch 15/40\n",
      "8000/8000 [==============================] - 0s 26us/sample - loss: 0.3429 - accuracy: 0.8604\n",
      "Epoch 16/40\n",
      "8000/8000 [==============================] - 0s 27us/sample - loss: 0.3414 - accuracy: 0.8604\n",
      "Epoch 17/40\n",
      "8000/8000 [==============================] - 0s 26us/sample - loss: 0.3414 - accuracy: 0.8605\n",
      "Epoch 18/40\n",
      "8000/8000 [==============================] - 0s 26us/sample - loss: 0.3410 - accuracy: 0.8601\n",
      "Epoch 19/40\n",
      "8000/8000 [==============================] - 0s 27us/sample - loss: 0.3401 - accuracy: 0.8605\n",
      "Epoch 20/40\n",
      "8000/8000 [==============================] - 0s 26us/sample - loss: 0.3399 - accuracy: 0.8599\n",
      "Epoch 21/40\n",
      "8000/8000 [==============================] - 0s 26us/sample - loss: 0.3396 - accuracy: 0.8601\n",
      "Epoch 22/40\n",
      "8000/8000 [==============================] - 0s 26us/sample - loss: 0.3389 - accuracy: 0.8611\n",
      "Epoch 23/40\n",
      "8000/8000 [==============================] - 0s 26us/sample - loss: 0.3384 - accuracy: 0.8605\n",
      "Epoch 24/40\n",
      "8000/8000 [==============================] - 0s 28us/sample - loss: 0.3384 - accuracy: 0.8604\n",
      "Epoch 25/40\n",
      "8000/8000 [==============================] - 0s 26us/sample - loss: 0.3379 - accuracy: 0.8599\n",
      "Epoch 26/40\n",
      "8000/8000 [==============================] - 0s 26us/sample - loss: 0.3371 - accuracy: 0.8614\n",
      "Epoch 27/40\n",
      "8000/8000 [==============================] - 0s 26us/sample - loss: 0.3373 - accuracy: 0.8586\n",
      "Epoch 28/40\n",
      "8000/8000 [==============================] - 0s 26us/sample - loss: 0.3371 - accuracy: 0.8606\n",
      "Epoch 29/40\n",
      "8000/8000 [==============================] - 0s 28us/sample - loss: 0.3369 - accuracy: 0.8612\n",
      "Epoch 30/40\n",
      "8000/8000 [==============================] - 0s 26us/sample - loss: 0.3361 - accuracy: 0.8601\n",
      "Epoch 31/40\n",
      "8000/8000 [==============================] - 0s 26us/sample - loss: 0.3361 - accuracy: 0.8612\n",
      "Epoch 32/40\n",
      "8000/8000 [==============================] - 0s 26us/sample - loss: 0.3358 - accuracy: 0.8611\n",
      "Epoch 33/40\n",
      "8000/8000 [==============================] - 0s 26us/sample - loss: 0.3362 - accuracy: 0.8616\n",
      "Epoch 34/40\n",
      "8000/8000 [==============================] - 0s 27us/sample - loss: 0.3353 - accuracy: 0.8602\n",
      "Epoch 35/40\n",
      "8000/8000 [==============================] - 0s 26us/sample - loss: 0.3357 - accuracy: 0.8593\n",
      "Epoch 36/40\n",
      "8000/8000 [==============================] - 0s 26us/sample - loss: 0.3350 - accuracy: 0.8629\n",
      "Epoch 37/40\n",
      "8000/8000 [==============================] - 0s 26us/sample - loss: 0.3350 - accuracy: 0.8602\n",
      "Epoch 38/40\n",
      "8000/8000 [==============================] - 0s 26us/sample - loss: 0.3347 - accuracy: 0.8596\n",
      "Epoch 39/40\n",
      "8000/8000 [==============================] - 0s 28us/sample - loss: 0.3342 - accuracy: 0.8606\n",
      "Epoch 40/40\n",
      "8000/8000 [==============================] - 0s 27us/sample - loss: 0.3341 - accuracy: 0.8625\n"
     ]
    },
    {
     "data": {
      "text/plain": [
       "<tensorflow.python.keras.callbacks.History at 0x1bd3e4a9908>"
      ]
     },
     "execution_count": 121,
     "metadata": {},
     "output_type": "execute_result"
    }
   ],
   "source": [
    "model.fit(X_train, y_train, batch_size=32, epochs = 40)"
   ]
  },
  {
   "cell_type": "code",
   "execution_count": 122,
   "metadata": {},
   "outputs": [],
   "source": [
    "# MAKING PREDICTIONS USING THE TRAINED ANN\n",
    "\n",
    "predictions = model.predict(X_test)"
   ]
  },
  {
   "cell_type": "code",
   "execution_count": 123,
   "metadata": {},
   "outputs": [
    {
     "data": {
      "text/plain": [
       "array([[0.03733238],\n",
       "       [0.03184462],\n",
       "       [0.55452394],\n",
       "       ...,\n",
       "       [0.05485585],\n",
       "       [0.2455728 ],\n",
       "       [0.47443476]], dtype=float32)"
      ]
     },
     "execution_count": 123,
     "metadata": {},
     "output_type": "execute_result"
    }
   ],
   "source": [
    "predictions"
   ]
  },
  {
   "cell_type": "code",
   "execution_count": 127,
   "metadata": {},
   "outputs": [],
   "source": [
    "predictions = np.round(predictions)"
   ]
  },
  {
   "cell_type": "code",
   "execution_count": 129,
   "metadata": {},
   "outputs": [
    {
     "data": {
      "text/plain": [
       "array([[0.],\n",
       "       [0.],\n",
       "       [1.],\n",
       "       ...,\n",
       "       [0.],\n",
       "       [0.],\n",
       "       [0.]], dtype=float16)"
      ]
     },
     "execution_count": 129,
     "metadata": {},
     "output_type": "execute_result"
    }
   ],
   "source": [
    "predictions"
   ]
  },
  {
   "cell_type": "code",
   "execution_count": 130,
   "metadata": {},
   "outputs": [
    {
     "name": "stdout",
     "output_type": "stream",
     "text": [
      "[[0. 0.]\n",
      " [0. 0.]\n",
      " [1. 1.]\n",
      " ...\n",
      " [0. 0.]\n",
      " [0. 0.]\n",
      " [0. 1.]]\n"
     ]
    }
   ],
   "source": [
    "# COMPARING PREDICTIONS TO TRUE TEST VALUES\n",
    "\n",
    "print(np.concatenate((predictions.reshape(len(predictions),1), y_test.reshape(len(y_test),1)),1))"
   ]
  },
  {
   "cell_type": "code",
   "execution_count": 134,
   "metadata": {},
   "outputs": [],
   "source": [
    "# EVALUATING MODEL PERFORMANCE USING CONFUSION MATRIX\n",
    "\n",
    "from sklearn.metrics import confusion_matrix, accuracy_score\n",
    "\n",
    "cm = confusion_matrix(y_test, predictions)\n",
    "accuracy = accuracy_score(y_test, predictions)"
   ]
  },
  {
   "cell_type": "code",
   "execution_count": 135,
   "metadata": {},
   "outputs": [
    {
     "data": {
      "text/plain": [
       "array([[1498,   79],\n",
       "       [ 181,  242]], dtype=int64)"
      ]
     },
     "execution_count": 135,
     "metadata": {},
     "output_type": "execute_result"
    }
   ],
   "source": [
    "cm     # 1489 True positives and 242 True Negatives"
   ]
  },
  {
   "cell_type": "code",
   "execution_count": 136,
   "metadata": {},
   "outputs": [
    {
     "data": {
      "text/plain": [
       "0.87"
      ]
     },
     "execution_count": 136,
     "metadata": {},
     "output_type": "execute_result"
    }
   ],
   "source": [
    "accuracy # The model has an accuracy of 87%"
   ]
  },
  {
   "cell_type": "markdown",
   "metadata": {},
   "source": [
    "## THE END"
   ]
  }
 ],
 "metadata": {
  "kernelspec": {
   "display_name": "Python 3",
   "language": "python",
   "name": "python3"
  },
  "language_info": {
   "codemirror_mode": {
    "name": "ipython",
    "version": 3
   },
   "file_extension": ".py",
   "mimetype": "text/x-python",
   "name": "python",
   "nbconvert_exporter": "python",
   "pygments_lexer": "ipython3",
   "version": "3.7.7"
  }
 },
 "nbformat": 4,
 "nbformat_minor": 4
}
